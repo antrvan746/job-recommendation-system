{
 "cells": [
  {
   "cell_type": "code",
   "execution_count": 8,
   "metadata": {},
   "outputs": [],
   "source": [
    "import pandas as pd\n",
    "import os"
   ]
  },
  {
   "cell_type": "code",
   "execution_count": 11,
   "metadata": {},
   "outputs": [],
   "source": [
    "PROJECT_PATH = \"d:\\My Work\\My Subjects\\Do an tot nghiep\\code\\job-recommendation-system\"\n",
    "INPUT_FILE_PATH = \"data\\\\resumes\\\\resume.csv\""
   ]
  },
  {
   "cell_type": "code",
   "execution_count": 13,
   "metadata": {},
   "outputs": [
    {
     "name": "stdout",
     "output_type": "stream",
     "text": [
      "d:\\My Work\\My Subjects\\Do an tot nghiep\\code\\job-recommendation-system\\data\\resumes\\resume.csv\n"
     ]
    },
    {
     "data": {
      "text/html": [
       "<div>\n",
       "<style scoped>\n",
       "    .dataframe tbody tr th:only-of-type {\n",
       "        vertical-align: middle;\n",
       "    }\n",
       "\n",
       "    .dataframe tbody tr th {\n",
       "        vertical-align: top;\n",
       "    }\n",
       "\n",
       "    .dataframe thead th {\n",
       "        text-align: right;\n",
       "    }\n",
       "</style>\n",
       "<table border=\"1\" class=\"dataframe\">\n",
       "  <thead>\n",
       "    <tr style=\"text-align: right;\">\n",
       "      <th></th>\n",
       "      <th>id</th>\n",
       "      <th>full_name</th>\n",
       "      <th>email</th>\n",
       "      <th>gender</th>\n",
       "      <th>resume_str</th>\n",
       "      <th>resume_html</th>\n",
       "    </tr>\n",
       "  </thead>\n",
       "  <tbody>\n",
       "    <tr>\n",
       "      <th>0</th>\n",
       "      <td>36856210</td>\n",
       "      <td>Isiahi Stellman</td>\n",
       "      <td>istellman0@gmpg.org</td>\n",
       "      <td>Male</td>\n",
       "      <td>INFORMATION TECHNOLOGY         Summar...</td>\n",
       "      <td>&lt;div class=\"fontsize fontface vmargins hmargin...</td>\n",
       "    </tr>\n",
       "    <tr>\n",
       "      <th>1</th>\n",
       "      <td>21780877</td>\n",
       "      <td>Brunhilde Broske</td>\n",
       "      <td>bbroske1@yahoo.com</td>\n",
       "      <td>Female</td>\n",
       "      <td>INFORMATION TECHNOLOGY SPECIALIST\\tGS...</td>\n",
       "      <td>&lt;div class=\"fontsize fontface vmargins hmargin...</td>\n",
       "    </tr>\n",
       "    <tr>\n",
       "      <th>2</th>\n",
       "      <td>33241454</td>\n",
       "      <td>Ardella Haselgrove</td>\n",
       "      <td>ahaselgrove2@woothemes.com</td>\n",
       "      <td>Female</td>\n",
       "      <td>INFORMATION TECHNOLOGY SUPERVISOR    ...</td>\n",
       "      <td>&lt;div class=\"fontsize fontface vmargins hmargin...</td>\n",
       "    </tr>\n",
       "    <tr>\n",
       "      <th>3</th>\n",
       "      <td>25990239</td>\n",
       "      <td>Olvan Stephen</td>\n",
       "      <td>ostephen3@php.net</td>\n",
       "      <td>Male</td>\n",
       "      <td>INFORMATION TECHNOLOGY INSTRUCTOR    ...</td>\n",
       "      <td>&lt;div class=\"fontsize fontface vmargins hmargin...</td>\n",
       "    </tr>\n",
       "    <tr>\n",
       "      <th>4</th>\n",
       "      <td>16899268</td>\n",
       "      <td>Doti Bedwell</td>\n",
       "      <td>dbedwell4@51.la</td>\n",
       "      <td>Female</td>\n",
       "      <td>INFORMATION TECHNOLOGY MANAGER/ANALYS...</td>\n",
       "      <td>&lt;div class=\"fontsize fontface vmargins hmargin...</td>\n",
       "    </tr>\n",
       "    <tr>\n",
       "      <th>...</th>\n",
       "      <td>...</td>\n",
       "      <td>...</td>\n",
       "      <td>...</td>\n",
       "      <td>...</td>\n",
       "      <td>...</td>\n",
       "      <td>...</td>\n",
       "    </tr>\n",
       "    <tr>\n",
       "      <th>105</th>\n",
       "      <td>25857360</td>\n",
       "      <td>Monty Cornthwaite</td>\n",
       "      <td>mcornthwaite2x@sun.com</td>\n",
       "      <td>Male</td>\n",
       "      <td>STAFF ASSISTANT       Professional Su...</td>\n",
       "      <td>&lt;div class=\"fontsize fontface vmargins hmargin...</td>\n",
       "    </tr>\n",
       "    <tr>\n",
       "      <th>106</th>\n",
       "      <td>26768723</td>\n",
       "      <td>Vally Gayforth</td>\n",
       "      <td>vgayforth2y@columbia.edu</td>\n",
       "      <td>Female</td>\n",
       "      <td>SUPPORT &amp; NETWORK SERVICES INTERN    ...</td>\n",
       "      <td>&lt;div class=\"fontsize fontface vmargins hmargin...</td>\n",
       "    </tr>\n",
       "    <tr>\n",
       "      <th>107</th>\n",
       "      <td>31243710</td>\n",
       "      <td>Art Bagenal</td>\n",
       "      <td>abagenal2z@washingtonpost.com</td>\n",
       "      <td>Genderfluid</td>\n",
       "      <td>IT MANAGER       Summary    Ten years...</td>\n",
       "      <td>&lt;div class=\"fontsize fontface vmargins hmargin...</td>\n",
       "    </tr>\n",
       "    <tr>\n",
       "      <th>108</th>\n",
       "      <td>15297298</td>\n",
       "      <td>Kristopher Creek</td>\n",
       "      <td>kcreek30@wikispaces.com</td>\n",
       "      <td>Male</td>\n",
       "      <td>PRACTICE MANAGER       Executive Summ...</td>\n",
       "      <td>&lt;div class=\"fontsize fontface vmargins hmargin...</td>\n",
       "    </tr>\n",
       "    <tr>\n",
       "      <th>109</th>\n",
       "      <td>27295996</td>\n",
       "      <td>Consalve McKinney</td>\n",
       "      <td>cmckinney31@blogs.com</td>\n",
       "      <td>Male</td>\n",
       "      <td>IT DIRECTOR               Accomplishm...</td>\n",
       "      <td>&lt;div class=\"fontsize fontface vmargins hmargin...</td>\n",
       "    </tr>\n",
       "  </tbody>\n",
       "</table>\n",
       "<p>110 rows × 6 columns</p>\n",
       "</div>"
      ],
      "text/plain": [
       "           id           full_name                          email       gender  \\\n",
       "0    36856210     Isiahi Stellman            istellman0@gmpg.org         Male   \n",
       "1    21780877    Brunhilde Broske             bbroske1@yahoo.com       Female   \n",
       "2    33241454  Ardella Haselgrove     ahaselgrove2@woothemes.com       Female   \n",
       "3    25990239       Olvan Stephen              ostephen3@php.net         Male   \n",
       "4    16899268        Doti Bedwell                dbedwell4@51.la       Female   \n",
       "..        ...                 ...                            ...          ...   \n",
       "105  25857360   Monty Cornthwaite         mcornthwaite2x@sun.com         Male   \n",
       "106  26768723      Vally Gayforth       vgayforth2y@columbia.edu       Female   \n",
       "107  31243710         Art Bagenal  abagenal2z@washingtonpost.com  Genderfluid   \n",
       "108  15297298    Kristopher Creek        kcreek30@wikispaces.com         Male   \n",
       "109  27295996   Consalve McKinney          cmckinney31@blogs.com         Male   \n",
       "\n",
       "                                            resume_str  \\\n",
       "0             INFORMATION TECHNOLOGY         Summar...   \n",
       "1             INFORMATION TECHNOLOGY SPECIALIST\\tGS...   \n",
       "2             INFORMATION TECHNOLOGY SUPERVISOR    ...   \n",
       "3             INFORMATION TECHNOLOGY INSTRUCTOR    ...   \n",
       "4             INFORMATION TECHNOLOGY MANAGER/ANALYS...   \n",
       "..                                                 ...   \n",
       "105           STAFF ASSISTANT       Professional Su...   \n",
       "106           SUPPORT & NETWORK SERVICES INTERN    ...   \n",
       "107           IT MANAGER       Summary    Ten years...   \n",
       "108           PRACTICE MANAGER       Executive Summ...   \n",
       "109           IT DIRECTOR               Accomplishm...   \n",
       "\n",
       "                                           resume_html  \n",
       "0    <div class=\"fontsize fontface vmargins hmargin...  \n",
       "1    <div class=\"fontsize fontface vmargins hmargin...  \n",
       "2    <div class=\"fontsize fontface vmargins hmargin...  \n",
       "3    <div class=\"fontsize fontface vmargins hmargin...  \n",
       "4    <div class=\"fontsize fontface vmargins hmargin...  \n",
       "..                                                 ...  \n",
       "105  <div class=\"fontsize fontface vmargins hmargin...  \n",
       "106  <div class=\"fontsize fontface vmargins hmargin...  \n",
       "107  <div class=\"fontsize fontface vmargins hmargin...  \n",
       "108  <div class=\"fontsize fontface vmargins hmargin...  \n",
       "109  <div class=\"fontsize fontface vmargins hmargin...  \n",
       "\n",
       "[110 rows x 6 columns]"
      ]
     },
     "execution_count": 13,
     "metadata": {},
     "output_type": "execute_result"
    }
   ],
   "source": [
    "filePath = os.path.join(PROJECT_PATH, INPUT_FILE_PATH)\n",
    "print(filePath)\n",
    "df = pd.read_csv(filePath)\n",
    "df"
   ]
  },
  {
   "cell_type": "code",
   "execution_count": 14,
   "metadata": {},
   "outputs": [
    {
     "data": {
      "text/plain": [
       "0      36856210\n",
       "1      21780877\n",
       "2      33241454\n",
       "3      25990239\n",
       "4      16899268\n",
       "         ...   \n",
       "105    25857360\n",
       "106    26768723\n",
       "107    31243710\n",
       "108    15297298\n",
       "109    27295996\n",
       "Name: id, Length: 110, dtype: int64"
      ]
     },
     "execution_count": 14,
     "metadata": {},
     "output_type": "execute_result"
    }
   ],
   "source": [
    "df['id']"
   ]
  },
  {
   "cell_type": "code",
   "execution_count": 18,
   "metadata": {},
   "outputs": [
    {
     "data": {
      "text/plain": [
       "110"
      ]
     },
     "execution_count": 18,
     "metadata": {},
     "output_type": "execute_result"
    }
   ],
   "source": [
    "len(df)"
   ]
  },
  {
   "cell_type": "code",
   "execution_count": 16,
   "metadata": {},
   "outputs": [
    {
     "data": {
      "text/plain": [
       "'Isiahi Stellman'"
      ]
     },
     "execution_count": 16,
     "metadata": {},
     "output_type": "execute_result"
    }
   ],
   "source": [
    "df['full_name'][0]"
   ]
  }
 ],
 "metadata": {
  "kernelspec": {
   "display_name": "Python 3",
   "language": "python",
   "name": "python3"
  },
  "language_info": {
   "codemirror_mode": {
    "name": "ipython",
    "version": 3
   },
   "file_extension": ".py",
   "mimetype": "text/x-python",
   "name": "python",
   "nbconvert_exporter": "python",
   "pygments_lexer": "ipython3",
   "version": "3.11.3"
  }
 },
 "nbformat": 4,
 "nbformat_minor": 2
}
